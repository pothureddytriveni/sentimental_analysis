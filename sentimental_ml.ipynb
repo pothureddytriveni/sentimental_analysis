{
 "cells": [
  {
   "cell_type": "code",
   "execution_count": 1,
   "id": "188cb51a",
   "metadata": {},
   "outputs": [
    {
     "name": "stderr",
     "output_type": "stream",
     "text": [
      "[nltk_data] Downloading package stopwords to\n",
      "[nltk_data]     C:\\Users\\Admin\\AppData\\Roaming\\nltk_data...\n",
      "[nltk_data]   Package stopwords is already up-to-date!\n",
      "[nltk_data] Downloading package wordnet to\n",
      "[nltk_data]     C:\\Users\\Admin\\AppData\\Roaming\\nltk_data...\n",
      "[nltk_data]   Package wordnet is already up-to-date!\n"
     ]
    }
   ],
   "source": [
    "# Import necessary libraries\n",
    "import pandas as pd\n",
    "import numpy as np\n",
    "import re\n",
    "import nltk\n",
    "from nltk.corpus import stopwords\n",
    "from nltk.stem import WordNetLemmatizer\n",
    "from sklearn.model_selection import train_test_split\n",
    "from sklearn.feature_extraction.text import CountVectorizer, TfidfVectorizer\n",
    "from sklearn.metrics import f1_score\n",
    "from sklearn.ensemble import RandomForestClassifier\n",
    "from sklearn.svm import SVC\n",
    "from sklearn.pipeline import Pipeline\n",
    "from sklearn.preprocessing import LabelEncoder\n",
    "import warnings\n",
    "warnings.filterwarnings(\"ignore\")\n",
    "import joblib\n",
    "\n",
    "# Data Loading and Analysis\n",
    "data = pd.read_csv('data.csv')\n",
    "def clean_text(text):\n",
    "    if not isinstance(text, str):\n",
    "        return ''\n",
    "    text = re.sub(r'[^a-zA-Z\\s]', '', text, re.I|re.A)\n",
    "    text = text.lower()\n",
    "    return text\n",
    "\n",
    "\n",
    "nltk.download('stopwords')\n",
    "nltk.download('wordnet')\n",
    "stop_words = set(stopwords.words('english'))\n",
    "lemmatizer = WordNetLemmatizer()\n",
    "\n",
    "def preprocess_text(text):\n",
    "    text = clean_text(text)\n",
    "    words = text.split()\n",
    "    words = [word for word in words if word not in stop_words]\n",
    "    words = [lemmatizer.lemmatize(word) for word in words]\n",
    "    return ' '.join(words)\n",
    "\n",
    "data['clean_text'] = data['Review text'].apply(preprocess_text)\n",
    "\n",
    "# Model Training\n",
    "X = data['clean_text']\n",
    "y = data['Ratings'] > 3  # Considering ratings 4 and 5 as positive, rest as negative\n",
    "X_train, X_test, y_train, y_test = train_test_split(X, y, test_size=0.2, random_state=42)\n",
    "\n",
    "vectorizer = TfidfVectorizer()\n",
    "X_train_vect = vectorizer.fit_transform(X_train)\n",
    "X_test_vect = vectorizer.transform(X_test)\n"
   ]
  },
  {
   "cell_type": "code",
   "execution_count": 2,
   "id": "94b132ff",
   "metadata": {},
   "outputs": [],
   "source": [
    "from sklearn.model_selection import train_test_split\n",
    "from sklearn.metrics import f1_score\n",
    "from sklearn.linear_model import LogisticRegression\n",
    "from sklearn.naive_bayes import MultinomialNB\n",
    "from sklearn.svm import SVC\n",
    "from sklearn.ensemble import RandomForestClassifier"
   ]
  },
  {
   "cell_type": "code",
   "execution_count": 5,
   "id": "c6a55cc0",
   "metadata": {},
   "outputs": [
    {
     "name": "stdout",
     "output_type": "stream",
     "text": [
      "Best parameters for Logistic Regression: {'clf__C': 10, 'tfidf__use_idf': False, 'vect__ngram_range': (1, 2)}\n",
      "Training F1 Score for Logistic Regression: 0.9111056221932412\n",
      "Testing F1 Score for Logistic Regression: 0.7777467844413452\n",
      "\n",
      "\n",
      "Best parameters for Multinomial Naive Bayes: {'clf__alpha': 0.1, 'tfidf__use_idf': False, 'vect__ngram_range': (1, 2)}\n",
      "Training F1 Score for Multinomial Naive Bayes: 0.893777440289826\n",
      "Testing F1 Score for Multinomial Naive Bayes: 0.7639693675005219\n",
      "\n",
      "\n",
      "Best parameters for Support Vector Machine: {'clf__C': 10, 'tfidf__use_idf': False, 'vect__ngram_range': (1, 1)}\n",
      "Training F1 Score for Support Vector Machine: 0.9254202907010682\n",
      "Testing F1 Score for Support Vector Machine: 0.7846522587694043\n",
      "\n",
      "\n",
      "Best parameters for Random Forest: {'clf__max_depth': None, 'clf__n_estimators': 100, 'tfidf__use_idf': True, 'vect__ngram_range': (1, 1)}\n",
      "Training F1 Score for Random Forest: 0.925694064317482\n",
      "Testing F1 Score for Random Forest: 0.76354004260981\n",
      "\n",
      "\n"
     ]
    }
   ],
   "source": [
    "from sklearn.ensemble import RandomForestClassifier\n",
    "\n",
    "# Define hyperparameters for grid search for Random Forest\n",
    "parameters_rf = {\n",
    "    'vect__ngram_range': [(1, 1), (1, 2)],  # unigrams or bigrams\n",
    "    'tfidf__use_idf': (True, False),\n",
    "    'clf__n_estimators': [50, 100, 200],  # Number of trees in the forest\n",
    "    'clf__max_depth': [None, 10, 20]  # Maximum depth of the tree\n",
    "}\n",
    "\n",
    "# Add Random Forest classifier to the classifiers dictionary\n",
    "classifiers['Random Forest'] = (RandomForestClassifier(), parameters_rf)\n",
    "\n",
    "# Perform grid search for each classifier\n",
    "for classifier_name, (classifier, params) in classifiers.items():\n",
    "    pipeline = create_pipeline(classifier)\n",
    "    grid_search = GridSearchCV(pipeline, params, cv=5, n_jobs=-1, scoring='f1_macro')\n",
    "    grid_search.fit(X_train, y_train)\n",
    "    \n",
    "    # Print best parameters and F1 score\n",
    "    print(f\"Best parameters for {classifier_name}: {grid_search.best_params_}\")\n",
    "    \n",
    "    # Evaluate on training data\n",
    "    train_pred = grid_search.predict(X_train)\n",
    "    train_f1 = f1_score(y_train, train_pred, average='macro')\n",
    "    \n",
    "    # Evaluate on testing data\n",
    "    test_pred = grid_search.predict(X_test)\n",
    "    test_f1 = f1_score(y_test, test_pred, average='macro')\n",
    "    \n",
    "    print(f\"Training F1 Score for {classifier_name}: {train_f1}\")\n",
    "    print(f\"Testing F1 Score for {classifier_name}: {test_f1}\")\n",
    "    print(\"\\n\")\n"
   ]
  },
  {
   "cell_type": "code",
   "execution_count": 7,
   "id": "9d488a6a",
   "metadata": {},
   "outputs": [
    {
     "data": {
      "text/plain": [
       "['random_forest_model.pkl']"
      ]
     },
     "execution_count": 7,
     "metadata": {},
     "output_type": "execute_result"
    }
   ],
   "source": [
    "model = grid_search.best_estimator_\n",
    "joblib.dump(model, f'{classifier_name.lower().replace(\" \", \"_\")}_model.pkl')"
   ]
  },
  {
   "cell_type": "code",
   "execution_count": 8,
   "id": "bf00273d",
   "metadata": {},
   "outputs": [
    {
     "name": "stdout",
     "output_type": "stream",
     "text": [
      "Best parameters for Logistic Regression: {'clf__C': 10, 'clf__penalty': 'l2', 'tfidf__use_idf': False, 'vect__ngram_range': (1, 2)}\n",
      "Training F1 Score for Logistic Regression: 0.9111056221932412\n",
      "Testing F1 Score for Logistic Regression: 0.7777467844413452\n",
      "\n",
      "\n",
      "Best parameters for Multinomial Naive Bayes: {'clf__alpha': 0.1, 'tfidf__use_idf': False, 'vect__ngram_range': (1, 2)}\n",
      "Training F1 Score for Multinomial Naive Bayes: 0.893777440289826\n",
      "Testing F1 Score for Multinomial Naive Bayes: 0.7639693675005219\n",
      "\n",
      "\n",
      "Best parameters for Support Vector Machine: {'clf__C': 10, 'clf__kernel': 'linear', 'tfidf__use_idf': True, 'vect__ngram_range': (1, 2)}\n",
      "Training F1 Score for Support Vector Machine: 0.9239911181880196\n",
      "Testing F1 Score for Support Vector Machine: 0.781779118373315\n",
      "\n",
      "\n",
      "Best parameters for Random Forest: {'clf__max_depth': None, 'clf__n_estimators': 200, 'tfidf__use_idf': False, 'vect__ngram_range': (1, 1)}\n",
      "Training F1 Score for Random Forest: 0.9256031149951818\n",
      "Testing F1 Score for Random Forest: 0.7671496410280307\n",
      "\n",
      "\n"
     ]
    }
   ],
   "source": [
    "import joblib\n",
    "from sklearn.pipeline import Pipeline\n",
    "from sklearn.model_selection import GridSearchCV\n",
    "from sklearn.metrics import f1_score\n",
    "from sklearn.linear_model import LogisticRegression\n",
    "from sklearn.naive_bayes import MultinomialNB\n",
    "from sklearn.svm import SVC\n",
    "from sklearn.ensemble import RandomForestClassifier\n",
    "from sklearn.feature_extraction.text import CountVectorizer, TfidfTransformer\n",
    "\n",
    "# Define a function to create the pipeline\n",
    "def create_pipeline(classifier):\n",
    "    return Pipeline([\n",
    "        ('vect', CountVectorizer()),\n",
    "        ('tfidf', TfidfTransformer()),\n",
    "        ('clf', classifier)\n",
    "    ])\n",
    "\n",
    "# Define hyperparameters for grid search for each classifier\n",
    "parameters_lr = {\n",
    "    'vect__ngram_range': [(1, 1), (1, 2)],  \n",
    "    'tfidf__use_idf': (True, False),\n",
    "    'clf__C': [0.1, 1, 10, 100],  \n",
    "    'clf__penalty': ['l1', 'l2']\n",
    "}\n",
    "\n",
    "parameters_nb = {\n",
    "    'vect__ngram_range': [(1, 1), (1, 2)],  \n",
    "    'tfidf__use_idf': (True, False),\n",
    "    'clf__alpha': [0.1, 1, 10, 100]\n",
    "}\n",
    "\n",
    "parameters_svm = {\n",
    "    'vect__ngram_range': [(1, 1), (1, 2)],  \n",
    "    'tfidf__use_idf': (True, False),\n",
    "    'clf__C': [0.1, 1, 10, 100],  \n",
    "    'clf__kernel': ['linear', 'rbf']\n",
    "}\n",
    "\n",
    "parameters_rf = {\n",
    "    'vect__ngram_range': [(1, 1), (1, 2)],  \n",
    "    'tfidf__use_idf': (True, False),\n",
    "    'clf__n_estimators': [100, 200, 300, 500],  \n",
    "    'clf__max_depth': [None, 10, 20, 50]\n",
    "}\n",
    "\n",
    "# Define the classifiers with respective parameter grids\n",
    "classifiers = {\n",
    "    'Logistic Regression': (LogisticRegression(max_iter=1000), parameters_lr),\n",
    "    'Multinomial Naive Bayes': (MultinomialNB(), parameters_nb),\n",
    "    'Support Vector Machine': (SVC(), parameters_svm),\n",
    "    'Random Forest': (RandomForestClassifier(), parameters_rf)\n",
    "}\n",
    "\n",
    "# Perform grid search for each classifier\n",
    "for classifier_name, (classifier, params) in classifiers.items():\n",
    "    pipeline = create_pipeline(classifier)\n",
    "    grid_search = GridSearchCV(pipeline, params, cv=5, n_jobs=-1, scoring='f1_macro')\n",
    "    grid_search.fit(X_train, y_train)\n",
    "    \n",
    "    # Print best parameters and F1 score\n",
    "    print(f\"Best parameters for {classifier_name}: {grid_search.best_params_}\")\n",
    "    \n",
    "    # Save the model\n",
    "    model = grid_search.best_estimator_\n",
    "    joblib.dump(model, f'{classifier_name.lower().replace(\" \", \"_\")}_model.pkl')\n",
    "    \n",
    "    # Evaluate on training data\n",
    "    train_pred = grid_search.predict(X_train)\n",
    "    train_f1 = f1_score(y_train, train_pred, average='macro')\n",
    "    \n",
    "    # Evaluate on testing data\n",
    "    test_pred = grid_search.predict(X_test)\n",
    "    test_f1 = f1_score(y_test, test_pred, average='macro')\n",
    "    \n",
    "    print(f\"Training F1 Score for {classifier_name}: {train_f1}\")\n",
    "    print(f\"Testing F1 Score for {classifier_name}: {test_f1}\")\n",
    "    print(\"\\n\")\n"
   ]
  },
  {
   "cell_type": "code",
   "execution_count": 9,
   "id": "0c389c26",
   "metadata": {},
   "outputs": [
    {
     "data": {
      "text/plain": [
       "Pipeline(steps=[('vect', CountVectorizer()),\n",
       "                ('tfidf', TfidfTransformer(use_idf=False)),\n",
       "                ('clf', RandomForestClassifier(n_estimators=200))])"
      ]
     },
     "execution_count": 9,
     "metadata": {},
     "output_type": "execute_result"
    }
   ],
   "source": [
    "model"
   ]
  },
  {
   "cell_type": "code",
   "execution_count": null,
   "id": "0ea774cc",
   "metadata": {},
   "outputs": [],
   "source": []
  }
 ],
 "metadata": {
  "kernelspec": {
   "display_name": "Python 3 (ipykernel)",
   "language": "python",
   "name": "python3"
  },
  "language_info": {
   "codemirror_mode": {
    "name": "ipython",
    "version": 3
   },
   "file_extension": ".py",
   "mimetype": "text/x-python",
   "name": "python",
   "nbconvert_exporter": "python",
   "pygments_lexer": "ipython3",
   "version": "3.9.13"
  }
 },
 "nbformat": 4,
 "nbformat_minor": 5
}
